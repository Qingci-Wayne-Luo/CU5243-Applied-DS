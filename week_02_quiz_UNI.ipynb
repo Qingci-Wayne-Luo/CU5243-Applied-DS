{
  "cells": [
    {
      "cell_type": "markdown",
      "metadata": {
        "id": "xdhXxcO-XbC5"
      },
      "source": [
        "# Week 2 Quiz\n",
        "\n",
        "## Qingci Luo - ql2466\n"
      ]
    },
    {
      "cell_type": "markdown",
      "metadata": {
        "id": "0kJ8KEphXbC6"
      },
      "source": [
        "### Instructions\n",
        "\n",
        "Replace the Name and UNI in cell above and the notebook name\n",
        "\n",
        "Replace all '____' below using the instructions provided.\n",
        "\n",
        "When completed, \n",
        " - make sure you've replaced Name and UNI in the first cell and filename  (eg: week_02_quiz-hw2592)\n",
        " - Click the github link shared on canvas for quiz2 to generate your own repository of quiz2 \n",
        " - Click your own repository of quiz2 to commit your answers to github"
      ]
    },
    {
      "cell_type": "markdown",
      "metadata": {
        "id": "p-M89lvWXbC6"
      },
      "source": [
        "---"
      ]
    },
    {
      "cell_type": "markdown",
      "metadata": {
        "id": "cAn-wgNlXbC7"
      },
      "source": [
        "## 1. Lists"
      ]
    },
    {
      "cell_type": "code",
      "execution_count": 2,
      "metadata": {
        "colab": {
          "base_uri": "https://localhost:8080/"
        },
        "id": "g8DL8Up1XbC7",
        "outputId": "515f850a-05e2-45f8-e869-54576e0a9050"
      },
      "outputs": [
        {
          "output_type": "execute_result",
          "data": {
            "text/plain": [
              "True"
            ]
          },
          "metadata": {},
          "execution_count": 2
        }
      ],
      "source": [
        "# Create a list containing the strings 'blue','red','green'\n",
        "colors = ['blue','red','green']\n",
        "\n",
        "# Assert that value at index 0 of the list colors is equal to 'blue'\n",
        "colors[0]=='blue'\n",
        "\n",
        "# Using list indexing, print out the value of colors at index 1\n",
        "# You should see the output \"red\" without quotes\n",
        "print(colors[1])"
      ]
    },
    {
      "cell_type": "markdown",
      "metadata": {
        "id": "pBHRVLEvXbC7"
      },
      "source": [
        "## 2. Dicts"
      ]
    },
    {
      "cell_type": "code",
      "execution_count": 5,
      "metadata": {
        "colab": {
          "base_uri": "https://localhost:8080/"
        },
        "id": "7jtLaY_8XbC7",
        "outputId": "5a1083e4-0d6b-4338-c390-cda2c9a92936"
      },
      "outputs": [
        {
          "output_type": "stream",
          "name": "stdout",
          "text": [
            "1\n"
          ]
        }
      ],
      "source": [
        "# Create a dictionary which maps the string keys 'zero','one','two'\n",
        "#    to the int values 0,1,2\n",
        "str_to_int = {'zero':0, 'one':1, 'two':2}\n",
        "\n",
        "# Assert that the value returned for key 'two' equals 2 in str_to_int\n",
        "str_to_int['two']==2\n",
        "\n",
        "# Using str_to_int, print out the value for the key 'one'\n",
        "# You should see the output 1\n",
        "print(str_to_int['one'])"
      ]
    },
    {
      "cell_type": "markdown",
      "metadata": {
        "id": "E6yZuKJSXbC7"
      },
      "source": [
        "## 3. String Formatting And For Loops"
      ]
    },
    {
      "cell_type": "code",
      "execution_count": 9,
      "metadata": {
        "colab": {
          "base_uri": "https://localhost:8080/"
        },
        "id": "c6CWxJzAXbC7",
        "outputId": "4e72d80c-4b3f-49de-e397-c5045908b20a"
      },
      "outputs": [
        {
          "output_type": "stream",
          "name": "stdout",
          "text": [
            "the length of colors is 3\n",
            "the value at index 0 is blue\n",
            "the value at index 1 is red\n",
            "the value at index 2 is green\n"
          ]
        }
      ],
      "source": [
        "# Using the len function and f\"\" string formatting, print the number of elements in colors defined above.\n",
        "print(f\"the length of colors is {len(colors)}\")\n",
        "\n",
        "# Using the enumerate function, the colors list defined above, and f\"\" string formatting\n",
        "#   for every index,value pair from enumerate(colors)\n",
        "#   print \"the value at index {index} is {value}\"\n",
        "#   Ex: \n",
        "#     the value at index 0 is blue\n",
        "#     the value at index 1 is red\n",
        "#     the value at index 2 is green\n",
        "obj1 = enumerate(colors)\n",
        "for i,j in obj1:\n",
        "    print(f'the value at index {i} is {j}')"
      ]
    },
    {
      "cell_type": "markdown",
      "metadata": {
        "id": "UN4cDQ9HXbC8"
      },
      "source": [
        "## 4. List Comprehension"
      ]
    },
    {
      "cell_type": "code",
      "execution_count": 13,
      "metadata": {
        "colab": {
          "base_uri": "https://localhost:8080/"
        },
        "id": "5armYmd7XbC8",
        "outputId": "f4f434a2-717e-413d-de5c-db51ff1e94e4"
      },
      "outputs": [
        {
          "output_type": "execute_result",
          "data": {
            "text/plain": [
              "True"
            ]
          },
          "metadata": {},
          "execution_count": 13
        }
      ],
      "source": [
        "# Using a list comprehension and the len() function,\n",
        "#    create a list corresponding to the lengths of each of the strings in colors\n",
        "# Store the resulting list in variable color_lengths\n",
        "color_lengths = [len(x) for x in colors]\n",
        "# Assert that the first value in color_lengths is 4 (the length of 'blue')\n",
        "color_lengths[0]==4"
      ]
    },
    {
      "cell_type": "markdown",
      "metadata": {
        "id": "lYxgzhvUXbC8"
      },
      "source": [
        "## 5. Functions and Control Flow"
      ]
    },
    {
      "cell_type": "code",
      "execution_count": 15,
      "metadata": {
        "id": "DjYfrMIMXbC8"
      },
      "outputs": [],
      "source": [
        "# Define a function called append_even_odd\n",
        "# It should expect to take in a string\n",
        "#    if the string is empty (has length of 0), return 'empty'\n",
        "#    else if the string has an even number of characters, return the string with '_even' added to the end \n",
        "#    else if the string has an odd number of characters, return the string with '_odd' added to the end\n",
        "# For example: 'blue' should become 'blue_even'\n",
        "def append_even_odd(x):\n",
        "  if len(x)==0:\n",
        "    return 'empty'\n",
        "  elif len(x)%2!=0:\n",
        "    return x+'_odd'\n",
        "  elif len(x)%2==0:\n",
        "    return x+'_even'\n",
        "\n",
        "\n",
        "assert append_even_odd('test') == 'test_even'\n",
        "assert append_even_odd('one') == 'one_odd'\n",
        "assert append_even_odd('') == 'empty'"
      ]
    },
    {
      "cell_type": "markdown",
      "metadata": {
        "id": "CQeMNc8RXbC8"
      },
      "source": [
        "## 6. Sorting"
      ]
    },
    {
      "cell_type": "code",
      "execution_count": 18,
      "metadata": {
        "colab": {
          "base_uri": "https://localhost:8080/"
        },
        "id": "5NUlzhktXbC8",
        "outputId": "05d7b62c-625e-45f5-9cd0-ea67c72a2b98"
      },
      "outputs": [
        {
          "output_type": "execute_result",
          "data": {
            "text/plain": [
              "True"
            ]
          },
          "metadata": {},
          "execution_count": 18
        }
      ],
      "source": [
        "# Using sorted(), sort the list color_lengths created above, descending in value (reverse=True)\n",
        "# Save as color_lengths_sorted\n",
        "color_lengths_sorted = sorted(color_lengths, reverse=True)\n",
        "\n",
        "# Assert that the last element of color_lengths_sorted is 3\n",
        "color_lengths_sorted[-1]==3"
      ]
    },
    {
      "cell_type": "markdown",
      "metadata": {
        "id": "FstwbzeeXbC8"
      },
      "source": [
        "### For More Practice (not required):"
      ]
    },
    {
      "cell_type": "code",
      "execution_count": 30,
      "metadata": {
        "colab": {
          "base_uri": "https://localhost:8080/"
        },
        "id": "iSSo9UFlXbC8",
        "outputId": "09f5b0ee-c1f5-43c1-88a6-8c1f91860183"
      },
      "outputs": [
        {
          "output_type": "execute_result",
          "data": {
            "text/plain": [
              "True"
            ]
          },
          "metadata": {},
          "execution_count": 30
        }
      ],
      "source": [
        "# Create a list of the key,value pairs in the str_to_int dictionary sorted by value, decending\n",
        "str_to_int_sorted = sorted(str_to_int.items(), key=lambda x: x[1], reverse=True)\n",
        "\n",
        "# assert that the first element of str_to_int_sorted is ('two',2)\n",
        "str_to_int_sorted[0]==('two',2)"
      ]
    }
  ],
  "metadata": {
    "kernelspec": {
      "display_name": "Python 3 (ipykernel)",
      "language": "python",
      "name": "python3"
    },
    "language_info": {
      "codemirror_mode": {
        "name": "ipython",
        "version": 3
      },
      "file_extension": ".py",
      "mimetype": "text/x-python",
      "name": "python",
      "nbconvert_exporter": "python",
      "pygments_lexer": "ipython3",
      "version": "3.9.7"
    },
    "colab": {
      "provenance": []
    }
  },
  "nbformat": 4,
  "nbformat_minor": 0
}