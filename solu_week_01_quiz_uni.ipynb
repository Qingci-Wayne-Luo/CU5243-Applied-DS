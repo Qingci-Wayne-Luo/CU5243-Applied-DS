{
  "cells": [
    {
      "cell_type": "markdown",
      "id": "cf471d8e",
      "metadata": {
        "id": "cf471d8e"
      },
      "source": [
        "# 1. System Setup"
      ]
    },
    {
      "cell_type": "code",
      "execution_count": 1,
      "id": "39f8acba",
      "metadata": {
        "colab": {
          "base_uri": "https://localhost:8080/"
        },
        "id": "39f8acba",
        "outputId": "8f4e42bd-b48d-4e51-fabb-d8d94aeda31c"
      },
      "outputs": [
        {
          "output_type": "stream",
          "name": "stdout",
          "text": [
            "python version: 3.8.10 (default, Nov 14 2022, 12:59:47) \n",
            "[GCC 9.4.0]\n",
            "pandas version: 1.3.5\n",
            "sklearn version: 1.0.2\n",
            "pandas path: ['/usr/local/lib/python3.8/dist-packages/pandas']\n"
          ]
        }
      ],
      "source": [
        "import sys\n",
        "import pandas\n",
        "import sklearn\n",
        "print('python version:',sys.version)\n",
        "print('pandas version:',pandas.__version__)\n",
        "print('sklearn version:',sklearn.__version__)\n",
        "print('pandas path:',pandas.__path__)"
      ]
    },
    {
      "cell_type": "markdown",
      "id": "412a2115",
      "metadata": {
        "id": "412a2115"
      },
      "source": [
        "# 2. Survey"
      ]
    },
    {
      "cell_type": "markdown",
      "id": "06e288ac",
      "metadata": {
        "id": "06e288ac"
      },
      "source": [
        "## Please fill in the survey, and print DONE the survey for ADS\n",
        "\n",
        "[Course Survey](https://docs.google.com/forms/d/e/1FAIpQLScVAvh-Zhuc59PR1q7lO8srMVvbokMV4TclSmS1NQXL-GYsqw/viewform)\n",
        "\n",
        "- Write simple code to \"print(\"I have DONE the survey for EODS, my UNI is: {}\")\" (fill in the {} with your UNI)\n",
        "- run the survey_response.py"
      ]
    },
    {
      "cell_type": "code",
      "execution_count": 14,
      "id": "e657cc37",
      "metadata": {
        "colab": {
          "base_uri": "https://localhost:8080/"
        },
        "id": "e657cc37",
        "outputId": "a5e9d521-502b-40d7-bf56-903913ce5646"
      },
      "outputs": [
        {
          "output_type": "stream",
          "name": "stdout",
          "text": [
            "Overwriting survey_response.py\n"
          ]
        }
      ],
      "source": [
        "%%writefile survey_response.py\n",
        "uni = 'ql2466'\n",
        "print(f\"I have DONE the survey for EODS, my UNI is: {uni}\") "
      ]
    },
    {
      "cell_type": "code",
      "source": [
        "%run survey_response.py"
      ],
      "metadata": {
        "colab": {
          "base_uri": "https://localhost:8080/"
        },
        "id": "lZs2XTvDOJFX",
        "outputId": "34898620-1190-4ef2-e53b-62ea701ef92a"
      },
      "id": "lZs2XTvDOJFX",
      "execution_count": 16,
      "outputs": [
        {
          "output_type": "stream",
          "name": "stdout",
          "text": [
            "I have DONE the survey for EODS, my UNI is: ql2466\n"
          ]
        }
      ]
    }
  ],
  "metadata": {
    "kernelspec": {
      "display_name": "Python 3 (ipykernel)",
      "language": "python",
      "name": "python3"
    },
    "language_info": {
      "codemirror_mode": {
        "name": "ipython",
        "version": 3
      },
      "file_extension": ".py",
      "mimetype": "text/x-python",
      "name": "python",
      "nbconvert_exporter": "python",
      "pygments_lexer": "ipython3",
      "version": "3.9.7"
    },
    "colab": {
      "provenance": []
    }
  },
  "nbformat": 4,
  "nbformat_minor": 5
}