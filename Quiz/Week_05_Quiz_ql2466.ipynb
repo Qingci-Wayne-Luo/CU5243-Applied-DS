{
  "cells": [
    {
      "cell_type": "markdown",
      "metadata": {
        "id": "xp-QT05okVVn"
      },
      "source": [
        "# Week 5 Quiz\n",
        "\n",
        "## Qingci Luo - ql2466"
      ]
    },
    {
      "cell_type": "markdown",
      "metadata": {
        "id": "kquuXTgLkVVo"
      },
      "source": [
        "### Instructions\n",
        "\n",
        "Replace the Name and UNI in cell above and the notebook name\n",
        "\n",
        "Replace all '____' below using the instructions provided.\n",
        "\n",
        "When completed, \n",
        " - make sure you've replaced Name and UNI in the first cell and filename (eg: week_05_quiz-hw2592)\n",
        " - Click the github link shared on canvas for quiz5 to generate your own repository of quiz5\n",
        " - Click your own repository of quiz5 to commit your answers to github"
      ]
    },
    {
      "cell_type": "code",
      "execution_count": null,
      "metadata": {
        "id": "aTErAWeFkVVo"
      },
      "outputs": [],
      "source": [
        "import pandas as pd\n",
        "import numpy as np\n",
        "import matplotlib.pyplot as plt\n",
        "import seaborn as sns\n",
        "\n",
        "sns.set_style('darkgrid')\n",
        "%matplotlib inline"
      ]
    },
    {
      "cell_type": "code",
      "execution_count": null,
      "metadata": {
        "colab": {
          "base_uri": "https://localhost:8080/",
          "height": 143
        },
        "id": "sV6GK5DFkVVp",
        "outputId": "f0943575-36fa-4de8-c136-71693a944d10"
      },
      "outputs": [
        {
          "output_type": "execute_result",
          "data": {
            "text/plain": [
              "   Chins  Situps  Jumps  Weight\n",
              "0    5.0   162.0   60.0   191.0\n",
              "1    2.0   110.0   60.0   189.0\n",
              "2   12.0   101.0  101.0   193.0"
            ],
            "text/html": [
              "\n",
              "  <div id=\"df-4924c4ec-8544-488d-816f-98bb72567a63\">\n",
              "    <div class=\"colab-df-container\">\n",
              "      <div>\n",
              "<style scoped>\n",
              "    .dataframe tbody tr th:only-of-type {\n",
              "        vertical-align: middle;\n",
              "    }\n",
              "\n",
              "    .dataframe tbody tr th {\n",
              "        vertical-align: top;\n",
              "    }\n",
              "\n",
              "    .dataframe thead th {\n",
              "        text-align: right;\n",
              "    }\n",
              "</style>\n",
              "<table border=\"1\" class=\"dataframe\">\n",
              "  <thead>\n",
              "    <tr style=\"text-align: right;\">\n",
              "      <th></th>\n",
              "      <th>Chins</th>\n",
              "      <th>Situps</th>\n",
              "      <th>Jumps</th>\n",
              "      <th>Weight</th>\n",
              "    </tr>\n",
              "  </thead>\n",
              "  <tbody>\n",
              "    <tr>\n",
              "      <th>0</th>\n",
              "      <td>5.0</td>\n",
              "      <td>162.0</td>\n",
              "      <td>60.0</td>\n",
              "      <td>191.0</td>\n",
              "    </tr>\n",
              "    <tr>\n",
              "      <th>1</th>\n",
              "      <td>2.0</td>\n",
              "      <td>110.0</td>\n",
              "      <td>60.0</td>\n",
              "      <td>189.0</td>\n",
              "    </tr>\n",
              "    <tr>\n",
              "      <th>2</th>\n",
              "      <td>12.0</td>\n",
              "      <td>101.0</td>\n",
              "      <td>101.0</td>\n",
              "      <td>193.0</td>\n",
              "    </tr>\n",
              "  </tbody>\n",
              "</table>\n",
              "</div>\n",
              "      <button class=\"colab-df-convert\" onclick=\"convertToInteractive('df-4924c4ec-8544-488d-816f-98bb72567a63')\"\n",
              "              title=\"Convert this dataframe to an interactive table.\"\n",
              "              style=\"display:none;\">\n",
              "        \n",
              "  <svg xmlns=\"http://www.w3.org/2000/svg\" height=\"24px\"viewBox=\"0 0 24 24\"\n",
              "       width=\"24px\">\n",
              "    <path d=\"M0 0h24v24H0V0z\" fill=\"none\"/>\n",
              "    <path d=\"M18.56 5.44l.94 2.06.94-2.06 2.06-.94-2.06-.94-.94-2.06-.94 2.06-2.06.94zm-11 1L8.5 8.5l.94-2.06 2.06-.94-2.06-.94L8.5 2.5l-.94 2.06-2.06.94zm10 10l.94 2.06.94-2.06 2.06-.94-2.06-.94-.94-2.06-.94 2.06-2.06.94z\"/><path d=\"M17.41 7.96l-1.37-1.37c-.4-.4-.92-.59-1.43-.59-.52 0-1.04.2-1.43.59L10.3 9.45l-7.72 7.72c-.78.78-.78 2.05 0 2.83L4 21.41c.39.39.9.59 1.41.59.51 0 1.02-.2 1.41-.59l7.78-7.78 2.81-2.81c.8-.78.8-2.07 0-2.86zM5.41 20L4 18.59l7.72-7.72 1.47 1.35L5.41 20z\"/>\n",
              "  </svg>\n",
              "      </button>\n",
              "      \n",
              "  <style>\n",
              "    .colab-df-container {\n",
              "      display:flex;\n",
              "      flex-wrap:wrap;\n",
              "      gap: 12px;\n",
              "    }\n",
              "\n",
              "    .colab-df-convert {\n",
              "      background-color: #E8F0FE;\n",
              "      border: none;\n",
              "      border-radius: 50%;\n",
              "      cursor: pointer;\n",
              "      display: none;\n",
              "      fill: #1967D2;\n",
              "      height: 32px;\n",
              "      padding: 0 0 0 0;\n",
              "      width: 32px;\n",
              "    }\n",
              "\n",
              "    .colab-df-convert:hover {\n",
              "      background-color: #E2EBFA;\n",
              "      box-shadow: 0px 1px 2px rgba(60, 64, 67, 0.3), 0px 1px 3px 1px rgba(60, 64, 67, 0.15);\n",
              "      fill: #174EA6;\n",
              "    }\n",
              "\n",
              "    [theme=dark] .colab-df-convert {\n",
              "      background-color: #3B4455;\n",
              "      fill: #D2E3FC;\n",
              "    }\n",
              "\n",
              "    [theme=dark] .colab-df-convert:hover {\n",
              "      background-color: #434B5C;\n",
              "      box-shadow: 0px 1px 3px 1px rgba(0, 0, 0, 0.15);\n",
              "      filter: drop-shadow(0px 1px 2px rgba(0, 0, 0, 0.3));\n",
              "      fill: #FFFFFF;\n",
              "    }\n",
              "  </style>\n",
              "\n",
              "      <script>\n",
              "        const buttonEl =\n",
              "          document.querySelector('#df-4924c4ec-8544-488d-816f-98bb72567a63 button.colab-df-convert');\n",
              "        buttonEl.style.display =\n",
              "          google.colab.kernel.accessAllowed ? 'block' : 'none';\n",
              "\n",
              "        async function convertToInteractive(key) {\n",
              "          const element = document.querySelector('#df-4924c4ec-8544-488d-816f-98bb72567a63');\n",
              "          const dataTable =\n",
              "            await google.colab.kernel.invokeFunction('convertToInteractive',\n",
              "                                                     [key], {});\n",
              "          if (!dataTable) return;\n",
              "\n",
              "          const docLinkHtml = 'Like what you see? Visit the ' +\n",
              "            '<a target=\"_blank\" href=https://colab.research.google.com/notebooks/data_table.ipynb>data table notebook</a>'\n",
              "            + ' to learn more about interactive tables.';\n",
              "          element.innerHTML = '';\n",
              "          dataTable['output_type'] = 'display_data';\n",
              "          await google.colab.output.renderOutput(dataTable, element);\n",
              "          const docLink = document.createElement('div');\n",
              "          docLink.innerHTML = docLinkHtml;\n",
              "          element.appendChild(docLink);\n",
              "        }\n",
              "      </script>\n",
              "    </div>\n",
              "  </div>\n",
              "  "
            ]
          },
          "metadata": {},
          "execution_count": 2
        }
      ],
      "source": [
        "# Sklearn provides a set of commonly used example datasets. \n",
        "# They can be accessed through the datasets submodule.\n",
        "from sklearn import datasets\n",
        "\n",
        "# We're going to use the Linnerud dataset to practice Regression in sklearn.\n",
        "\n",
        "# The Linnerud dataset is a tiny multi-output regression dataset. It consists \n",
        "# of three excercise (data) and three physiological (target) variables \n",
        "# collected from twenty middle-aged men in a fitness club.\n",
        "linnerud = datasets.load_linnerud()\n",
        "\n",
        "# The features of the dataset contain data on 3 exercises\n",
        "# Chins - number of chinups\n",
        "# Situps - number of situps\n",
        "# Jumps - number of jumping jacks\n",
        "\n",
        "# Note that the features and target come as numpy matrices.\n",
        "# We'll first load the features into a pandas dataframe.\n",
        "df = pd.DataFrame(linnerud.data,columns=linnerud.feature_names)\n",
        "\n",
        "# We'll also add the target to our dataframe.\n",
        "# Note also that this dataset contains multiple targets.\n",
        "# We'll only consider one of them: Weight\n",
        "df['Weight'] = linnerud.target[:,linnerud.target_names.index('Weight')]\n",
        "\n",
        "# For more information on the dataset, uncomment the print command below\n",
        "#print(linnerud.DESCR)\n",
        "\n",
        "# print the first 3 rows\n",
        "df.head(3)"
      ]
    },
    {
      "cell_type": "code",
      "execution_count": null,
      "metadata": {
        "colab": {
          "base_uri": "https://localhost:8080/",
          "height": 313
        },
        "id": "IH52aW_VkVVp",
        "outputId": "01290cfc-4f72-47b7-b97b-86c19021464d"
      },
      "outputs": [
        {
          "output_type": "execute_result",
          "data": {
            "text/plain": [
              "Text(0.5, 1.0, 'Situps vs Weight')"
            ]
          },
          "metadata": {},
          "execution_count": 11
        },
        {
          "output_type": "display_data",
          "data": {
            "text/plain": [
              "<Figure size 432x288 with 1 Axes>"
            ],
            "image/png": "[encoded data removed]"
          },
          "metadata": {
            "needs_background": "light"
          }
        }
      ],
      "source": [
        "# What is the relationship between Situps and Weight?\n",
        "\n",
        "# Plot a scatterplot and best-fit line for x=Situps vs y=Weight\n",
        "#    using seaborn sns.regplot()\n",
        "sns.regplot(x=df.Situps, y=df.Weight)\n",
        "plt.xlabel(\"Situps\")\n",
        "plt.ylabel(\"Weight\")\n",
        "plt.title(\"Situps vs Weight\")"
      ]
    },
    {
      "cell_type": "code",
      "execution_count": null,
      "metadata": {
        "colab": {
          "base_uri": "https://localhost:8080/"
        },
        "id": "d9dgOvqokVVp",
        "outputId": "a413f1a9-e4d2-4892-dc32-786b03a408da"
      },
      "outputs": [
        {
          "output_type": "stream",
          "name": "stdout",
          "text": [
            "Expected change in Weight for 1-unit increase in Situps: -0.19\n",
            "Expected Weight when Situps is 0: 206.92\n"
          ]
        }
      ],
      "source": [
        "# The above plot should indicate a negative relationship \n",
        "#    between Situps and Weight\n",
        "# How much does Weight go down if Situps goes up?\n",
        "# To answer this we'll train a simple linear model.\n",
        "\n",
        "# First import LinearRegression from sklearn.linear_model\n",
        "from sklearn.linear_model import LinearRegression\n",
        "\n",
        "# Create a variable X containing the independent variable 'Situps'\n",
        "# Note that sklearn expects X to be two dimensional\n",
        "#   so you must use one of the methods discussed in class\n",
        "#   to return a two dimensional object\n",
        "X = np.array(df.Situps).reshape(-1,1)\n",
        "\n",
        "# Create a variable y containing the dependent variable 'Weight'\n",
        "# Note that y should only be one dimensional, \n",
        "#    so a Series (single column of a dataframe) works fine here\n",
        "Y = np.array(df.Weight)\n",
        "\n",
        "# Instantiate a LinearRegression object with default parameter settings\n",
        "#   and store as lr\n",
        "lr = LinearRegression()\n",
        "\n",
        "# Fit lr using the X and y defined above\n",
        "lr.fit(X,Y)\n",
        "\n",
        "# Using the learned parameters in coef_ and intercept_, \n",
        "#   by how much do we expect Weight to go down when Situps goes up by 1?\n",
        "# Print with a precision of 2\n",
        "D_weight = lr.coef_[0]\n",
        "D_intercept = lr.intercept_\n",
        "print(f\"Expected change in Weight for 1-unit increase in Situps: {D_weight:.2f}\")\n",
        "\n",
        "# Using the learned parameters in coef_ and intercept_, \n",
        "#   what should we expect weight to be when when Situps is 0?\n",
        "# Print with a precision of 2\n",
        "print(f\"Expected Weight when Situps is 0: {D_intercept:.2f}\")"
      ]
    },
    {
      "cell_type": "code",
      "execution_count": null,
      "metadata": {
        "colab": {
          "base_uri": "https://localhost:8080/"
        },
        "id": "utldxM3HkVVq",
        "outputId": "5854182a-eb16-4e3d-fca3-107ed3232641"
      },
      "outputs": [
        {
          "output_type": "stream",
          "name": "stdout",
          "text": [
            "Chins : -0.4750263586638008\n",
            "Situps : -0.21771646975131492\n",
            "Jumps : 0.09308837062185482\n"
          ]
        }
      ],
      "source": [
        "# How is Weight related to all 3 features?\n",
        "\n",
        "# Create a list containing the 3 feature names we're interested in \n",
        "#    as strings: Chins, Situps, Jumps\n",
        "# Store as feature_names\n",
        "# We'll do this to make sure we don't include 'Weight' in the \n",
        "#    regression as an independent variable\n",
        "feature_names = ['Chins','Situps','Jumps']\n",
        "\n",
        "# Instantiate a second LinearRegression model with default parameters\n",
        "#    and store as mlr\n",
        "# Fit this model using all of the columns in feature_names\n",
        "# Note that here we can pass the 2D dataframe without needing to .reshape(), etc.\n",
        "mlr = LinearRegression()\n",
        "mlr.fit(df[feature_names], Y)\n",
        "\n",
        "# For each feature name in feature_names, print out the name and \n",
        "#    corresponding learned coefficient\n",
        "# It looks like one of the features actually has a positive relationship. \n",
        "# Print coefficient values with a precision of 2.\n",
        "print(f'Chins : {mlr.coef_[0]}')\n",
        "print(f'Situps : {mlr.coef_[1]}')\n",
        "print(f'Jumps : {mlr.coef_[2]}')"
      ]
    },
    {
      "cell_type": "code",
      "execution_count": null,
      "metadata": {
        "colab": {
          "base_uri": "https://localhost:8080/",
          "height": 542
        },
        "id": "J_zxgUbTkVVq",
        "outputId": "01ddc6a9-b455-4133-e50e-40e745f70ffe"
      },
      "outputs": [
        {
          "output_type": "stream",
          "name": "stderr",
          "text": [
            "/usr/local/lib/python3.8/dist-packages/statsmodels/tsa/tsatools.py:142: FutureWarning: In a future version of pandas all arguments of concat except for the argument 'objs' will be keyword-only\n",
            "  x = pd.concat(x[::order], 1)\n"
          ]
        },
        {
          "output_type": "execute_result",
          "data": {
            "text/plain": [
              "<class 'statsmodels.iolib.summary.Summary'>\n",
              "\"\"\"\n",
              "                            OLS Regression Results                            \n",
              "==============================================================================\n",
              "Dep. Variable:                      y   R-squared:                       0.268\n",
              "Model:                            OLS   Adj. R-squared:                  0.131\n",
              "Method:                 Least Squares   F-statistic:                     1.952\n",
              "Date:                Mon, 27 Feb 2023   Prob (F-statistic):              0.162\n",
              "Time:                        02:28:51   Log-Likelihood:                -88.876\n",
              "No. Observations:                  20   AIC:                             185.8\n",
              "Df Residuals:                      16   BIC:                             189.7\n",
              "Df Model:                           3                                         \n",
              "Covariance Type:            nonrobust                                         \n",
              "==============================================================================\n",
              "                 coef    std err          t      P>|t|      [0.025      0.975]\n",
              "------------------------------------------------------------------------------\n",
              "const        208.2335     13.451     15.481      0.000     179.718     236.749\n",
              "Chins         -0.4750      1.393     -0.341      0.738      -3.428       2.478\n",
              "Situps        -0.2177      0.138     -1.583      0.133      -0.509       0.074\n",
              "Jumps          0.0931      0.139      0.671      0.512      -0.201       0.387\n",
              "==============================================================================\n",
              "Omnibus:                        1.292   Durbin-Watson:                   2.213\n",
              "Prob(Omnibus):                  0.524   Jarque-Bera (JB):                0.219\n",
              "Skew:                           0.077   Prob(JB):                        0.896\n",
              "Kurtosis:                       3.489   Cond. No.                         463.\n",
              "==============================================================================\n",
              "\n",
              "Notes:\n",
              "[1] Standard Errors assume that the covariance matrix of the errors is correctly specified.\n",
              "\"\"\""
            ],
            "text/html": [
              "<table class=\"simpletable\">\n",
              "<caption>OLS Regression Results</caption>\n",
              "<tr>\n",
              "  <th>Dep. Variable:</th>            <td>y</td>        <th>  R-squared:         </th> <td>   0.268</td>\n",
              "</tr>\n",
              "<tr>\n",
              "  <th>Model:</th>                   <td>OLS</td>       <th>  Adj. R-squared:    </th> <td>   0.131</td>\n",
              "</tr>\n",
              "<tr>\n",
              "  <th>Method:</th>             <td>Least Squares</td>  <th>  F-statistic:       </th> <td>   1.952</td>\n",
              "</tr>\n",
              "<tr>\n",
              "  <th>Date:</th>             <td>Mon, 27 Feb 2023</td> <th>  Prob (F-statistic):</th>  <td> 0.162</td> \n",
              "</tr>\n",
              "<tr>\n",
              "  <th>Time:</th>                 <td>02:28:51</td>     <th>  Log-Likelihood:    </th> <td> -88.876</td>\n",
              "</tr>\n",
              "<tr>\n",
              "  <th>No. Observations:</th>      <td>    20</td>      <th>  AIC:               </th> <td>   185.8</td>\n",
              "</tr>\n",
              "<tr>\n",
              "  <th>Df Residuals:</th>          <td>    16</td>      <th>  BIC:               </th> <td>   189.7</td>\n",
              "</tr>\n",
              "<tr>\n",
              "  <th>Df Model:</th>              <td>     3</td>      <th>                     </th>     <td> </td>   \n",
              "</tr>\n",
              "<tr>\n",
              "  <th>Covariance Type:</th>      <td>nonrobust</td>    <th>                     </th>     <td> </td>   \n",
              "</tr>\n",
              "</table>\n",
              "<table class=\"simpletable\">\n",
              "<tr>\n",
              "     <td></td>       <th>coef</th>     <th>std err</th>      <th>t</th>      <th>P>|t|</th>  <th>[0.025</th>    <th>0.975]</th>  \n",
              "</tr>\n",
              "<tr>\n",
              "  <th>const</th>  <td>  208.2335</td> <td>   13.451</td> <td>   15.481</td> <td> 0.000</td> <td>  179.718</td> <td>  236.749</td>\n",
              "</tr>\n",
              "<tr>\n",
              "  <th>Chins</th>  <td>   -0.4750</td> <td>    1.393</td> <td>   -0.341</td> <td> 0.738</td> <td>   -3.428</td> <td>    2.478</td>\n",
              "</tr>\n",
              "<tr>\n",
              "  <th>Situps</th> <td>   -0.2177</td> <td>    0.138</td> <td>   -1.583</td> <td> 0.133</td> <td>   -0.509</td> <td>    0.074</td>\n",
              "</tr>\n",
              "<tr>\n",
              "  <th>Jumps</th>  <td>    0.0931</td> <td>    0.139</td> <td>    0.671</td> <td> 0.512</td> <td>   -0.201</td> <td>    0.387</td>\n",
              "</tr>\n",
              "</table>\n",
              "<table class=\"simpletable\">\n",
              "<tr>\n",
              "  <th>Omnibus:</th>       <td> 1.292</td> <th>  Durbin-Watson:     </th> <td>   2.213</td>\n",
              "</tr>\n",
              "<tr>\n",
              "  <th>Prob(Omnibus):</th> <td> 0.524</td> <th>  Jarque-Bera (JB):  </th> <td>   0.219</td>\n",
              "</tr>\n",
              "<tr>\n",
              "  <th>Skew:</th>          <td> 0.077</td> <th>  Prob(JB):          </th> <td>   0.896</td>\n",
              "</tr>\n",
              "<tr>\n",
              "  <th>Kurtosis:</th>      <td> 3.489</td> <th>  Cond. No.          </th> <td>    463.</td>\n",
              "</tr>\n",
              "</table><br/><br/>Notes:<br/>[1] Standard Errors assume that the covariance matrix of the errors is correctly specified."
            ]
          },
          "metadata": {},
          "execution_count": 49
        }
      ],
      "source": [
        "# NOT REQUIRED\n",
        "\n",
        "# For those that are interested exploring how statsmodels works\n",
        "\n",
        "# Import the statsmodels api as sm\n",
        "import statsmodels.api as sm\n",
        "\n",
        "# Store the 3 features from df as X\n",
        "X = df[feature_names]\n",
        "\n",
        "# Add a constant to X (in order to learn the bias term) using sm.add_constant()\n",
        "X = sm.add_constant(X)\n",
        "\n",
        "# Instantiate and fit an OLS model using X and df.Weight as y \n",
        "#   and store as sm_model\n",
        "# Note that in OLS, the target y is the first parameter!\n",
        "sm_model = sm.OLS(Y, X).fit()\n",
        "\n",
        "# Display the model summary\n",
        "# Note that the coefficients in the summary match the values\n",
        "#    found above using sklearn\n",
        "sm_model.summary()"
      ]
    }
  ],
  "metadata": {
    "kernelspec": {
      "display_name": "eods-f21",
      "language": "python",
      "name": "eods-f21"
    },
    "language_info": {
      "codemirror_mode": {
        "name": "ipython",
        "version": 3
      },
      "file_extension": ".py",
      "mimetype": "text/x-python",
      "name": "python",
      "nbconvert_exporter": "python",
      "pygments_lexer": "ipython3",
      "version": "3.8.10"
    },
    "colab": {
      "provenance": []
    }
  },
  "nbformat": 4,
  "nbformat_minor": 0
}