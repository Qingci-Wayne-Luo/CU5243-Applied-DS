{
  "cells": [
    {
      "cell_type": "markdown",
      "metadata": {
        "id": "HJCzVj01tAZN"
      },
      "source": [
        "# Homework 1\n",
        "\n",
        "## Qingci Luo - ql2466\n",
        "\n",
        "### Due: Friday Feb 18th 11:59pm ET"
      ]
    },
    {
      "cell_type": "markdown",
      "metadata": {
        "id": "v3jKqnXxtAZO"
      },
      "source": [
        "In this homework we'll do some data exploration and perform a hypothesis test.\n",
        "\n",
        "\n",
        "## Instructions\n",
        "\n",
        "Replace Name and UNI in the first cell and filename with your UNI and name.\n",
        "\n",
        "Follow the comments below and fill in the blanks (____) to complete.\n",
        "\n",
        "Where a text response is asked for, please enter as a comment, starting each line with #."
      ]
    },
    {
      "cell_type": "markdown",
      "metadata": {
        "id": "TBq36pPNtAZO"
      },
      "source": [
        "# Environment Setup"
      ]
    },
    {
      "cell_type": "code",
      "execution_count": 1,
      "metadata": {
        "id": "McvrfFV_tAZO"
      },
      "outputs": [],
      "source": [
        "import pandas as pd\n",
        "import numpy as np\n",
        "import seaborn as sns\n",
        "import matplotlib.pylab as plt\n",
        "\n",
        "sns.set_style('darkgrid')\n",
        "\n",
        "%matplotlib inline"
      ]
    },
    {
      "cell_type": "markdown",
      "metadata": {
        "id": "U7RLaD8stAZO"
      },
      "source": [
        "## Part 1: Data Exploration\n",
        "\n",
        "One data science task, and a common one used for data science interviews, is to predict defaults on loans.<br>\n",
        "We're going to load a subset of a common loan dataset and explore some of the features.\n",
        "\n",
        "Here is a brief description of the features included:\n",
        "\n",
        "- **loan_amnt**: The amount of money applied for\n",
        "- **term**: The period over which the load should be repaid\n",
        "- **annual_inc**: Annual income of the borrower\n",
        "- **purpose**: The purpose of the loan, such as: credit_card, debt_consolidation, etc.\n",
        "- **home_ownership**: The borrower's relationship with their primary residence\n",
        "- **outcome**: The result of the loan: paid off or default"
      ]
    },
    {
      "cell_type": "code",
      "execution_count": 12,
      "metadata": {
        "colab": {
          "base_uri": "https://localhost:8080/",
          "height": 255
        },
        "id": "2312fld_tAZP",
        "outputId": "e5d0b350-30fa-48eb-9c19-69449521e7ae"
      },
      "outputs": [
        {
          "output_type": "stream",
          "name": "stdout",
          "text": [
            "Drive already mounted at /content/drive; to attempt to forcibly remount, call drive.mount(\"/content/drive\", force_remount=True).\n"
          ]
        },
        {
          "output_type": "execute_result",
          "data": {
            "text/plain": [
              "     loan_amnt       term  annual_inc             purpose home_ownership  \\\n",
              "id                                                                         \n",
              "id0       7875  36 months       40000         credit_card       MORTGAGE   \n",
              "id1       9325  36 months       47000  debt_consolidation       MORTGAGE   \n",
              "id2      10600  36 months       28264  debt_consolidation           RENT   \n",
              "id3       6000  36 months       65000  debt_consolidation           RENT   \n",
              "id4       7900  36 months       22000  debt_consolidation           RENT   \n",
              "\n",
              "      outcome  \n",
              "id             \n",
              "id0  paid off  \n",
              "id1  paid off  \n",
              "id2  paid off  \n",
              "id3  paid off  \n",
              "id4  paid off  "
            ],
            "text/html": [
              "\n",
              "  <div id=\"df-e35eaa9e-4604-4977-95ca-c04f0a317e68\">\n",
              "    <div class=\"colab-df-container\">\n",
              "      <div>\n",
              "<style scoped>\n",
              "    .dataframe tbody tr th:only-of-type {\n",
              "        vertical-align: middle;\n",
              "    }\n",
              "\n",
              "    .dataframe tbody tr th {\n",
              "        vertical-align: top;\n",
              "    }\n",
              "\n",
              "    .dataframe thead th {\n",
              "        text-align: right;\n",
              "    }\n",
              "</style>\n",
              "<table border=\"1\" class=\"dataframe\">\n",
              "  <thead>\n",
              "    <tr style=\"text-align: right;\">\n",
              "      <th></th>\n",
              "      <th>loan_amnt</th>\n",
              "      <th>term</th>\n",
              "      <th>annual_inc</th>\n",
              "      <th>purpose</th>\n",
              "      <th>home_ownership</th>\n",
              "      <th>outcome</th>\n",
              "    </tr>\n",
              "    <tr>\n",
              "      <th>id</th>\n",
              "      <th></th>\n",
              "      <th></th>\n",
              "      <th></th>\n",
              "      <th></th>\n",
              "      <th></th>\n",
              "      <th></th>\n",
              "    </tr>\n",
              "  </thead>\n",
              "  <tbody>\n",
              "    <tr>\n",
              "      <th>id0</th>\n",
              "      <td>7875</td>\n",
              "      <td>36 months</td>\n",
              "      <td>40000</td>\n",
              "      <td>credit_card</td>\n",
              "      <td>MORTGAGE</td>\n",
              "      <td>paid off</td>\n",
              "    </tr>\n",
              "    <tr>\n",
              "      <th>id1</th>\n",
              "      <td>9325</td>\n",
              "      <td>36 months</td>\n",
              "      <td>47000</td>\n",
              "      <td>debt_consolidation</td>\n",
              "      <td>MORTGAGE</td>\n",
              "      <td>paid off</td>\n",
              "    </tr>\n",
              "    <tr>\n",
              "      <th>id2</th>\n",
              "      <td>10600</td>\n",
              "      <td>36 months</td>\n",
              "      <td>28264</td>\n",
              "      <td>debt_consolidation</td>\n",
              "      <td>RENT</td>\n",
              "      <td>paid off</td>\n",
              "    </tr>\n",
              "    <tr>\n",
              "      <th>id3</th>\n",
              "      <td>6000</td>\n",
              "      <td>36 months</td>\n",
              "      <td>65000</td>\n",
              "      <td>debt_consolidation</td>\n",
              "      <td>RENT</td>\n",
              "      <td>paid off</td>\n",
              "    </tr>\n",
              "    <tr>\n",
              "      <th>id4</th>\n",
              "      <td>7900</td>\n",
              "      <td>36 months</td>\n",
              "      <td>22000</td>\n",
              "      <td>debt_consolidation</td>\n",
              "      <td>RENT</td>\n",
              "      <td>paid off</td>\n",
              "    </tr>\n",
              "  </tbody>\n",
              "</table>\n",
              "</div>\n",
              "      <button class=\"colab-df-convert\" onclick=\"convertToInteractive('df-e35eaa9e-4604-4977-95ca-c04f0a317e68')\"\n",
              "              title=\"Convert this dataframe to an interactive table.\"\n",
              "              style=\"display:none;\">\n",
              "        \n",
              "  <svg xmlns=\"http://www.w3.org/2000/svg\" height=\"24px\"viewBox=\"0 0 24 24\"\n",
              "       width=\"24px\">\n",
              "    <path d=\"M0 0h24v24H0V0z\" fill=\"none\"/>\n",
              "    <path d=\"M18.56 5.44l.94 2.06.94-2.06 2.06-.94-2.06-.94-.94-2.06-.94 2.06-2.06.94zm-11 1L8.5 8.5l.94-2.06 2.06-.94-2.06-.94L8.5 2.5l-.94 2.06-2.06.94zm10 10l.94 2.06.94-2.06 2.06-.94-2.06-.94-.94-2.06-.94 2.06-2.06.94z\"/><path d=\"M17.41 7.96l-1.37-1.37c-.4-.4-.92-.59-1.43-.59-.52 0-1.04.2-1.43.59L10.3 9.45l-7.72 7.72c-.78.78-.78 2.05 0 2.83L4 21.41c.39.39.9.59 1.41.59.51 0 1.02-.2 1.41-.59l7.78-7.78 2.81-2.81c.8-.78.8-2.07 0-2.86zM5.41 20L4 18.59l7.72-7.72 1.47 1.35L5.41 20z\"/>\n",
              "  </svg>\n",
              "      </button>\n",
              "      \n",
              "  <style>\n",
              "    .colab-df-container {\n",
              "      display:flex;\n",
              "      flex-wrap:wrap;\n",
              "      gap: 12px;\n",
              "    }\n",
              "\n",
              "    .colab-df-convert {\n",
              "      background-color: #E8F0FE;\n",
              "      border: none;\n",
              "      border-radius: 50%;\n",
              "      cursor: pointer;\n",
              "      display: none;\n",
              "      fill: #1967D2;\n",
              "      height: 32px;\n",
              "      padding: 0 0 0 0;\n",
              "      width: 32px;\n",
              "    }\n",
              "\n",
              "    .colab-df-convert:hover {\n",
              "      background-color: #E2EBFA;\n",
              "      box-shadow: 0px 1px 2px rgba(60, 64, 67, 0.3), 0px 1px 3px 1px rgba(60, 64, 67, 0.15);\n",
              "      fill: #174EA6;\n",
              "    }\n",
              "\n",
              "    [theme=dark] .colab-df-convert {\n",
              "      background-color: #3B4455;\n",
              "      fill: #D2E3FC;\n",
              "    }\n",
              "\n",
              "    [theme=dark] .colab-df-convert:hover {\n",
              "      background-color: #434B5C;\n",
              "      box-shadow: 0px 1px 3px 1px rgba(0, 0, 0, 0.15);\n",
              "      filter: drop-shadow(0px 1px 2px rgba(0, 0, 0, 0.3));\n",
              "      fill: #FFFFFF;\n",
              "    }\n",
              "  </style>\n",
              "\n",
              "      <script>\n",
              "        const buttonEl =\n",
              "          document.querySelector('#df-e35eaa9e-4604-4977-95ca-c04f0a317e68 button.colab-df-convert');\n",
              "        buttonEl.style.display =\n",
              "          google.colab.kernel.accessAllowed ? 'block' : 'none';\n",
              "\n",
              "        async function convertToInteractive(key) {\n",
              "          const element = document.querySelector('#df-e35eaa9e-4604-4977-95ca-c04f0a317e68');\n",
              "          const dataTable =\n",
              "            await google.colab.kernel.invokeFunction('convertToInteractive',\n",
              "                                                     [key], {});\n",
              "          if (!dataTable) return;\n",
              "\n",
              "          const docLinkHtml = 'Like what you see? Visit the ' +\n",
              "            '<a target=\"_blank\" href=https://colab.research.google.com/notebooks/data_table.ipynb>data table notebook</a>'\n",
              "            + ' to learn more about interactive tables.';\n",
              "          element.innerHTML = '';\n",
              "          dataTable['output_type'] = 'display_data';\n",
              "          await google.colab.output.renderOutput(dataTable, element);\n",
              "          const docLink = document.createElement('div');\n",
              "          docLink.innerHTML = docLinkHtml;\n",
              "          element.appendChild(docLink);\n",
              "        }\n",
              "      </script>\n",
              "    </div>\n",
              "  </div>\n",
              "  "
            ]
          },
          "metadata": {},
          "execution_count": 12
        }
      ],
      "source": [
        "# 1. (1pt) Load the data from ../data/loan_data_subset.csv into the variable df \n",
        "#    using the default separator ','\n",
        "#    using the column 'id' as the index with index_col='id'\n",
        "\n",
        "from google.colab import drive\n",
        "drive.mount('/content/drive')\n",
        "df = pd.read_csv('./drive/MyDrive/loan_data_subset.csv', index_col = 'id')\n",
        "df.head()"
      ]
    },
    {
      "cell_type": "code",
      "execution_count": 13,
      "metadata": {
        "colab": {
          "base_uri": "https://localhost:8080/"
        },
        "id": "G6VZhCnbtAZP",
        "outputId": "66379e36-977b-48b8-a4bd-dbafaf25ac33"
      },
      "outputs": [
        {
          "output_type": "stream",
          "name": "stdout",
          "text": [
            "dataframe has 1000 rows and 6 columns.\n"
          ]
        }
      ],
      "source": [
        "# 2. (1pt) Using .shape, how many rows and columns does the dataset have?\n",
        "#    Note: you should see 1000 rows and 6 columns\n",
        "\n",
        "print(f'dataframe has {df.shape[0]} rows and {df.shape[1]} columns.')"
      ]
    },
    {
      "cell_type": "code",
      "execution_count": 14,
      "metadata": {
        "colab": {
          "base_uri": "https://localhost:8080/",
          "height": 175
        },
        "id": "p9NtgA-XtAZP",
        "outputId": "13a864b9-a936-4fce-ea00-1393bc73e14b"
      },
      "outputs": [
        {
          "output_type": "execute_result",
          "data": {
            "text/plain": [
              "     loan_amnt       term  annual_inc             purpose home_ownership  \\\n",
              "id                                                                         \n",
              "id0       7875  36 months       40000         credit_card       MORTGAGE   \n",
              "id1       9325  36 months       47000  debt_consolidation       MORTGAGE   \n",
              "id2      10600  36 months       28264  debt_consolidation           RENT   \n",
              "\n",
              "      outcome  \n",
              "id             \n",
              "id0  paid off  \n",
              "id1  paid off  \n",
              "id2  paid off  "
            ],
            "text/html": [
              "\n",
              "  <div id=\"df-1e3f543c-2d79-4291-954c-019d99efe075\">\n",
              "    <div class=\"colab-df-container\">\n",
              "      <div>\n",
              "<style scoped>\n",
              "    .dataframe tbody tr th:only-of-type {\n",
              "        vertical-align: middle;\n",
              "    }\n",
              "\n",
              "    .dataframe tbody tr th {\n",
              "        vertical-align: top;\n",
              "    }\n",
              "\n",
              "    .dataframe thead th {\n",
              "        text-align: right;\n",
              "    }\n",
              "</style>\n",
              "<table border=\"1\" class=\"dataframe\">\n",
              "  <thead>\n",
              "    <tr style=\"text-align: right;\">\n",
              "      <th></th>\n",
              "      <th>loan_amnt</th>\n",
              "      <th>term</th>\n",
              "      <th>annual_inc</th>\n",
              "      <th>purpose</th>\n",
              "      <th>home_ownership</th>\n",
              "      <th>outcome</th>\n",
              "    </tr>\n",
              "    <tr>\n",
              "      <th>id</th>\n",
              "      <th></th>\n",
              "      <th></th>\n",
              "      <th></th>\n",
              "      <th></th>\n",
              "      <th></th>\n",
              "      <th></th>\n",
              "    </tr>\n",
              "  </thead>\n",
              "  <tbody>\n",
              "    <tr>\n",
              "      <th>id0</th>\n",
              "      <td>7875</td>\n",
              "      <td>36 months</td>\n",
              "      <td>40000</td>\n",
              "      <td>credit_card</td>\n",
              "      <td>MORTGAGE</td>\n",
              "      <td>paid off</td>\n",
              "    </tr>\n",
              "    <tr>\n",
              "      <th>id1</th>\n",
              "      <td>9325</td>\n",
              "      <td>36 months</td>\n",
              "      <td>47000</td>\n",
              "      <td>debt_consolidation</td>\n",
              "      <td>MORTGAGE</td>\n",
              "      <td>paid off</td>\n",
              "    </tr>\n",
              "    <tr>\n",
              "      <th>id2</th>\n",
              "      <td>10600</td>\n",
              "      <td>36 months</td>\n",
              "      <td>28264</td>\n",
              "      <td>debt_consolidation</td>\n",
              "      <td>RENT</td>\n",
              "      <td>paid off</td>\n",
              "    </tr>\n",
              "  </tbody>\n",
              "</table>\n",
              "</div>\n",
              "      <button class=\"colab-df-convert\" onclick=\"convertToInteractive('df-1e3f543c-2d79-4291-954c-019d99efe075')\"\n",
              "              title=\"Convert this dataframe to an interactive table.\"\n",
              "              style=\"display:none;\">\n",
              "        \n",
              "  <svg xmlns=\"http://www.w3.org/2000/svg\" height=\"24px\"viewBox=\"0 0 24 24\"\n",
              "       width=\"24px\">\n",
              "    <path d=\"M0 0h24v24H0V0z\" fill=\"none\"/>\n",
              "    <path d=\"M18.56 5.44l.94 2.06.94-2.06 2.06-.94-2.06-.94-.94-2.06-.94 2.06-2.06.94zm-11 1L8.5 8.5l.94-2.06 2.06-.94-2.06-.94L8.5 2.5l-.94 2.06-2.06.94zm10 10l.94 2.06.94-2.06 2.06-.94-2.06-.94-.94-2.06-.94 2.06-2.06.94z\"/><path d=\"M17.41 7.96l-1.37-1.37c-.4-.4-.92-.59-1.43-.59-.52 0-1.04.2-1.43.59L10.3 9.45l-7.72 7.72c-.78.78-.78 2.05 0 2.83L4 21.41c.39.39.9.59 1.41.59.51 0 1.02-.2 1.41-.59l7.78-7.78 2.81-2.81c.8-.78.8-2.07 0-2.86zM5.41 20L4 18.59l7.72-7.72 1.47 1.35L5.41 20z\"/>\n",
              "  </svg>\n",
              "      </button>\n",
              "      \n",
              "  <style>\n",
              "    .colab-df-container {\n",
              "      display:flex;\n",
              "      flex-wrap:wrap;\n",
              "      gap: 12px;\n",
              "    }\n",
              "\n",
              "    .colab-df-convert {\n",
              "      background-color: #E8F0FE;\n",
              "      border: none;\n",
              "      border-radius: 50%;\n",
              "      cursor: pointer;\n",
              "      display: none;\n",
              "      fill: #1967D2;\n",
              "      height: 32px;\n",
              "      padding: 0 0 0 0;\n",
              "      width: 32px;\n",
              "    }\n",
              "\n",
              "    .colab-df-convert:hover {\n",
              "      background-color: #E2EBFA;\n",
              "      box-shadow: 0px 1px 2px rgba(60, 64, 67, 0.3), 0px 1px 3px 1px rgba(60, 64, 67, 0.15);\n",
              "      fill: #174EA6;\n",
              "    }\n",
              "\n",
              "    [theme=dark] .colab-df-convert {\n",
              "      background-color: #3B4455;\n",
              "      fill: #D2E3FC;\n",
              "    }\n",
              "\n",
              "    [theme=dark] .colab-df-convert:hover {\n",
              "      background-color: #434B5C;\n",
              "      box-shadow: 0px 1px 3px 1px rgba(0, 0, 0, 0.15);\n",
              "      filter: drop-shadow(0px 1px 2px rgba(0, 0, 0, 0.3));\n",
              "      fill: #FFFFFF;\n",
              "    }\n",
              "  </style>\n",
              "\n",
              "      <script>\n",
              "        const buttonEl =\n",
              "          document.querySelector('#df-1e3f543c-2d79-4291-954c-019d99efe075 button.colab-df-convert');\n",
              "        buttonEl.style.display =\n",
              "          google.colab.kernel.accessAllowed ? 'block' : 'none';\n",
              "\n",
              "        async function convertToInteractive(key) {\n",
              "          const element = document.querySelector('#df-1e3f543c-2d79-4291-954c-019d99efe075');\n",
              "          const dataTable =\n",
              "            await google.colab.kernel.invokeFunction('convertToInteractive',\n",
              "                                                     [key], {});\n",
              "          if (!dataTable) return;\n",
              "\n",
              "          const docLinkHtml = 'Like what you see? Visit the ' +\n",
              "            '<a target=\"_blank\" href=https://colab.research.google.com/notebooks/data_table.ipynb>data table notebook</a>'\n",
              "            + ' to learn more about interactive tables.';\n",
              "          element.innerHTML = '';\n",
              "          dataTable['output_type'] = 'display_data';\n",
              "          await google.colab.output.renderOutput(dataTable, element);\n",
              "          const docLink = document.createElement('div');\n",
              "          docLink.innerHTML = docLinkHtml;\n",
              "          element.appendChild(docLink);\n",
              "        }\n",
              "      </script>\n",
              "    </div>\n",
              "  </div>\n",
              "  "
            ]
          },
          "metadata": {},
          "execution_count": 14
        }
      ],
      "source": [
        "# 3. (1pt) Display the first 3 rows of the dataset using .head()\n",
        "df.head(3)"
      ]
    },
    {
      "cell_type": "code",
      "execution_count": null,
      "metadata": {
        "id": "11pukIsdtAZP"
      },
      "outputs": [],
      "source": [
        "# 4. (1pt) What's an example of a numeric feature included in the dataset? (give column label)\n",
        "\n",
        "# loan_amnt"
      ]
    },
    {
      "cell_type": "code",
      "execution_count": null,
      "metadata": {
        "id": "5NzdrZkMtAZP"
      },
      "outputs": [],
      "source": [
        "# 5. (1pt) What's an example of a categorical feature in the dataset? (give column label)\n",
        "\n",
        "# outcome"
      ]
    },
    {
      "cell_type": "code",
      "execution_count": 18,
      "metadata": {
        "colab": {
          "base_uri": "https://localhost:8080/",
          "height": 175
        },
        "id": "lr6NvmYGtAZP",
        "outputId": "ab0622a9-8254-45f2-8400-36dd2e4c21bc"
      },
      "outputs": [
        {
          "output_type": "execute_result",
          "data": {
            "text/plain": [
              "       loan_amnt       term  annual_inc             purpose home_ownership  \\\n",
              "id                                                                           \n",
              "id100      10000  36 months       75000         credit_card           RENT   \n",
              "id101       3000  36 months       72000               other           RENT   \n",
              "id102      16000  36 months       79000  debt_consolidation           RENT   \n",
              "\n",
              "        outcome  \n",
              "id               \n",
              "id100  paid off  \n",
              "id101  paid off  \n",
              "id102  paid off  "
            ],
            "text/html": [
              "\n",
              "  <div id=\"df-da14c6db-15ad-4169-a971-857a5c78f791\">\n",
              "    <div class=\"colab-df-container\">\n",
              "      <div>\n",
              "<style scoped>\n",
              "    .dataframe tbody tr th:only-of-type {\n",
              "        vertical-align: middle;\n",
              "    }\n",
              "\n",
              "    .dataframe tbody tr th {\n",
              "        vertical-align: top;\n",
              "    }\n",
              "\n",
              "    .dataframe thead th {\n",
              "        text-align: right;\n",
              "    }\n",
              "</style>\n",
              "<table border=\"1\" class=\"dataframe\">\n",
              "  <thead>\n",
              "    <tr style=\"text-align: right;\">\n",
              "      <th></th>\n",
              "      <th>loan_amnt</th>\n",
              "      <th>term</th>\n",
              "      <th>annual_inc</th>\n",
              "      <th>purpose</th>\n",
              "      <th>home_ownership</th>\n",
              "      <th>outcome</th>\n",
              "    </tr>\n",
              "    <tr>\n",
              "      <th>id</th>\n",
              "      <th></th>\n",
              "      <th></th>\n",
              "      <th></th>\n",
              "      <th></th>\n",
              "      <th></th>\n",
              "      <th></th>\n",
              "    </tr>\n",
              "  </thead>\n",
              "  <tbody>\n",
              "    <tr>\n",
              "      <th>id100</th>\n",
              "      <td>10000</td>\n",
              "      <td>36 months</td>\n",
              "      <td>75000</td>\n",
              "      <td>credit_card</td>\n",
              "      <td>RENT</td>\n",
              "      <td>paid off</td>\n",
              "    </tr>\n",
              "    <tr>\n",
              "      <th>id101</th>\n",
              "      <td>3000</td>\n",
              "      <td>36 months</td>\n",
              "      <td>72000</td>\n",
              "      <td>other</td>\n",
              "      <td>RENT</td>\n",
              "      <td>paid off</td>\n",
              "    </tr>\n",
              "    <tr>\n",
              "      <th>id102</th>\n",
              "      <td>16000</td>\n",
              "      <td>36 months</td>\n",
              "      <td>79000</td>\n",
              "      <td>debt_consolidation</td>\n",
              "      <td>RENT</td>\n",
              "      <td>paid off</td>\n",
              "    </tr>\n",
              "  </tbody>\n",
              "</table>\n",
              "</div>\n",
              "      <button class=\"colab-df-convert\" onclick=\"convertToInteractive('df-da14c6db-15ad-4169-a971-857a5c78f791')\"\n",
              "              title=\"Convert this dataframe to an interactive table.\"\n",
              "              style=\"display:none;\">\n",
              "        \n",
              "  <svg xmlns=\"http://www.w3.org/2000/svg\" height=\"24px\"viewBox=\"0 0 24 24\"\n",
              "       width=\"24px\">\n",
              "    <path d=\"M0 0h24v24H0V0z\" fill=\"none\"/>\n",
              "    <path d=\"M18.56 5.44l.94 2.06.94-2.06 2.06-.94-2.06-.94-.94-2.06-.94 2.06-2.06.94zm-11 1L8.5 8.5l.94-2.06 2.06-.94-2.06-.94L8.5 2.5l-.94 2.06-2.06.94zm10 10l.94 2.06.94-2.06 2.06-.94-2.06-.94-.94-2.06-.94 2.06-2.06.94z\"/><path d=\"M17.41 7.96l-1.37-1.37c-.4-.4-.92-.59-1.43-.59-.52 0-1.04.2-1.43.59L10.3 9.45l-7.72 7.72c-.78.78-.78 2.05 0 2.83L4 21.41c.39.39.9.59 1.41.59.51 0 1.02-.2 1.41-.59l7.78-7.78 2.81-2.81c.8-.78.8-2.07 0-2.86zM5.41 20L4 18.59l7.72-7.72 1.47 1.35L5.41 20z\"/>\n",
              "  </svg>\n",
              "      </button>\n",
              "      \n",
              "  <style>\n",
              "    .colab-df-container {\n",
              "      display:flex;\n",
              "      flex-wrap:wrap;\n",
              "      gap: 12px;\n",
              "    }\n",
              "\n",
              "    .colab-df-convert {\n",
              "      background-color: #E8F0FE;\n",
              "      border: none;\n",
              "      border-radius: 50%;\n",
              "      cursor: pointer;\n",
              "      display: none;\n",
              "      fill: #1967D2;\n",
              "      height: 32px;\n",
              "      padding: 0 0 0 0;\n",
              "      width: 32px;\n",
              "    }\n",
              "\n",
              "    .colab-df-convert:hover {\n",
              "      background-color: #E2EBFA;\n",
              "      box-shadow: 0px 1px 2px rgba(60, 64, 67, 0.3), 0px 1px 3px 1px rgba(60, 64, 67, 0.15);\n",
              "      fill: #174EA6;\n",
              "    }\n",
              "\n",
              "    [theme=dark] .colab-df-convert {\n",
              "      background-color: #3B4455;\n",
              "      fill: #D2E3FC;\n",
              "    }\n",
              "\n",
              "    [theme=dark] .colab-df-convert:hover {\n",
              "      background-color: #434B5C;\n",
              "      box-shadow: 0px 1px 3px 1px rgba(0, 0, 0, 0.15);\n",
              "      filter: drop-shadow(0px 1px 2px rgba(0, 0, 0, 0.3));\n",
              "      fill: #FFFFFF;\n",
              "    }\n",
              "  </style>\n",
              "\n",
              "      <script>\n",
              "        const buttonEl =\n",
              "          document.querySelector('#df-da14c6db-15ad-4169-a971-857a5c78f791 button.colab-df-convert');\n",
              "        buttonEl.style.display =\n",
              "          google.colab.kernel.accessAllowed ? 'block' : 'none';\n",
              "\n",
              "        async function convertToInteractive(key) {\n",
              "          const element = document.querySelector('#df-da14c6db-15ad-4169-a971-857a5c78f791');\n",
              "          const dataTable =\n",
              "            await google.colab.kernel.invokeFunction('convertToInteractive',\n",
              "                                                     [key], {});\n",
              "          if (!dataTable) return;\n",
              "\n",
              "          const docLinkHtml = 'Like what you see? Visit the ' +\n",
              "            '<a target=\"_blank\" href=https://colab.research.google.com/notebooks/data_table.ipynb>data table notebook</a>'\n",
              "            + ' to learn more about interactive tables.';\n",
              "          element.innerHTML = '';\n",
              "          dataTable['output_type'] = 'display_data';\n",
              "          await google.colab.output.renderOutput(dataTable, element);\n",
              "          const docLink = document.createElement('div');\n",
              "          docLink.innerHTML = docLinkHtml;\n",
              "          element.appendChild(docLink);\n",
              "        }\n",
              "      </script>\n",
              "    </div>\n",
              "  </div>\n",
              "  "
            ]
          },
          "metadata": {},
          "execution_count": 18
        }
      ],
      "source": [
        "# 6. (1pt) To practice indexing, \n",
        "#   display rows with labels (not-positional index) id100 to id102 inclusive, with all columns\n",
        "#   We should see 3 rows, 6 columns\n",
        "\n",
        "df.iloc[100:103,:]"
      ]
    },
    {
      "cell_type": "code",
      "execution_count": 22,
      "metadata": {
        "colab": {
          "base_uri": "https://localhost:8080/",
          "height": 175
        },
        "id": "yIdNRP94tAZP",
        "outputId": "20a84f9e-027a-45b2-ed20-f918968dcc96"
      },
      "outputs": [
        {
          "output_type": "execute_result",
          "data": {
            "text/plain": [
              "       loan_amnt  annual_inc   outcome\n",
              "id                                    \n",
              "id768      25000      367000   default\n",
              "id201      18000      334000  paid off\n",
              "id419      14000      310000  paid off"
            ],
            "text/html": [
              "\n",
              "  <div id=\"df-b83aecb8-c032-4f9a-967d-3b686e9c9f92\">\n",
              "    <div class=\"colab-df-container\">\n",
              "      <div>\n",
              "<style scoped>\n",
              "    .dataframe tbody tr th:only-of-type {\n",
              "        vertical-align: middle;\n",
              "    }\n",
              "\n",
              "    .dataframe tbody tr th {\n",
              "        vertical-align: top;\n",
              "    }\n",
              "\n",
              "    .dataframe thead th {\n",
              "        text-align: right;\n",
              "    }\n",
              "</style>\n",
              "<table border=\"1\" class=\"dataframe\">\n",
              "  <thead>\n",
              "    <tr style=\"text-align: right;\">\n",
              "      <th></th>\n",
              "      <th>loan_amnt</th>\n",
              "      <th>annual_inc</th>\n",
              "      <th>outcome</th>\n",
              "    </tr>\n",
              "    <tr>\n",
              "      <th>id</th>\n",
              "      <th></th>\n",
              "      <th></th>\n",
              "      <th></th>\n",
              "    </tr>\n",
              "  </thead>\n",
              "  <tbody>\n",
              "    <tr>\n",
              "      <th>id768</th>\n",
              "      <td>25000</td>\n",
              "      <td>367000</td>\n",
              "      <td>default</td>\n",
              "    </tr>\n",
              "    <tr>\n",
              "      <th>id201</th>\n",
              "      <td>18000</td>\n",
              "      <td>334000</td>\n",
              "      <td>paid off</td>\n",
              "    </tr>\n",
              "    <tr>\n",
              "      <th>id419</th>\n",
              "      <td>14000</td>\n",
              "      <td>310000</td>\n",
              "      <td>paid off</td>\n",
              "    </tr>\n",
              "  </tbody>\n",
              "</table>\n",
              "</div>\n",
              "      <button class=\"colab-df-convert\" onclick=\"convertToInteractive('df-b83aecb8-c032-4f9a-967d-3b686e9c9f92')\"\n",
              "              title=\"Convert this dataframe to an interactive table.\"\n",
              "              style=\"display:none;\">\n",
              "        \n",
              "  <svg xmlns=\"http://www.w3.org/2000/svg\" height=\"24px\"viewBox=\"0 0 24 24\"\n",
              "       width=\"24px\">\n",
              "    <path d=\"M0 0h24v24H0V0z\" fill=\"none\"/>\n",
              "    <path d=\"M18.56 5.44l.94 2.06.94-2.06 2.06-.94-2.06-.94-.94-2.06-.94 2.06-2.06.94zm-11 1L8.5 8.5l.94-2.06 2.06-.94-2.06-.94L8.5 2.5l-.94 2.06-2.06.94zm10 10l.94 2.06.94-2.06 2.06-.94-2.06-.94-.94-2.06-.94 2.06-2.06.94z\"/><path d=\"M17.41 7.96l-1.37-1.37c-.4-.4-.92-.59-1.43-.59-.52 0-1.04.2-1.43.59L10.3 9.45l-7.72 7.72c-.78.78-.78 2.05 0 2.83L4 21.41c.39.39.9.59 1.41.59.51 0 1.02-.2 1.41-.59l7.78-7.78 2.81-2.81c.8-.78.8-2.07 0-2.86zM5.41 20L4 18.59l7.72-7.72 1.47 1.35L5.41 20z\"/>\n",
              "  </svg>\n",
              "      </button>\n",
              "      \n",
              "  <style>\n",
              "    .colab-df-container {\n",
              "      display:flex;\n",
              "      flex-wrap:wrap;\n",
              "      gap: 12px;\n",
              "    }\n",
              "\n",
              "    .colab-df-convert {\n",
              "      background-color: #E8F0FE;\n",
              "      border: none;\n",
              "      border-radius: 50%;\n",
              "      cursor: pointer;\n",
              "      display: none;\n",
              "      fill: #1967D2;\n",
              "      height: 32px;\n",
              "      padding: 0 0 0 0;\n",
              "      width: 32px;\n",
              "    }\n",
              "\n",
              "    .colab-df-convert:hover {\n",
              "      background-color: #E2EBFA;\n",
              "      box-shadow: 0px 1px 2px rgba(60, 64, 67, 0.3), 0px 1px 3px 1px rgba(60, 64, 67, 0.15);\n",
              "      fill: #174EA6;\n",
              "    }\n",
              "\n",
              "    [theme=dark] .colab-df-convert {\n",
              "      background-color: #3B4455;\n",
              "      fill: #D2E3FC;\n",
              "    }\n",
              "\n",
              "    [theme=dark] .colab-df-convert:hover {\n",
              "      background-color: #434B5C;\n",
              "      box-shadow: 0px 1px 3px 1px rgba(0, 0, 0, 0.15);\n",
              "      filter: drop-shadow(0px 1px 2px rgba(0, 0, 0, 0.3));\n",
              "      fill: #FFFFFF;\n",
              "    }\n",
              "  </style>\n",
              "\n",
              "      <script>\n",
              "        const buttonEl =\n",
              "          document.querySelector('#df-b83aecb8-c032-4f9a-967d-3b686e9c9f92 button.colab-df-convert');\n",
              "        buttonEl.style.display =\n",
              "          google.colab.kernel.accessAllowed ? 'block' : 'none';\n",
              "\n",
              "        async function convertToInteractive(key) {\n",
              "          const element = document.querySelector('#df-b83aecb8-c032-4f9a-967d-3b686e9c9f92');\n",
              "          const dataTable =\n",
              "            await google.colab.kernel.invokeFunction('convertToInteractive',\n",
              "                                                     [key], {});\n",
              "          if (!dataTable) return;\n",
              "\n",
              "          const docLinkHtml = 'Like what you see? Visit the ' +\n",
              "            '<a target=\"_blank\" href=https://colab.research.google.com/notebooks/data_table.ipynb>data table notebook</a>'\n",
              "            + ' to learn more about interactive tables.';\n",
              "          element.innerHTML = '';\n",
              "          dataTable['output_type'] = 'display_data';\n",
              "          await google.colab.output.renderOutput(dataTable, element);\n",
              "          const docLink = document.createElement('div');\n",
              "          docLink.innerHTML = docLinkHtml;\n",
              "          element.appendChild(docLink);\n",
              "        }\n",
              "      </script>\n",
              "    </div>\n",
              "  </div>\n",
              "  "
            ]
          },
          "metadata": {},
          "execution_count": 22
        }
      ],
      "source": [
        "# 7. (3pt) For more practice, \n",
        "#  After sorting by 'annual_inc' decending, \n",
        "#    show the top 3 rows and only columns ['loan_amnt','annual_inc','outcome']\n",
        "\n",
        "df.sort_values('annual_inc', ascending = False)[['loan_amnt','annual_inc','outcome']].head(3)"
      ]
    },
    {
      "cell_type": "code",
      "execution_count": 42,
      "metadata": {
        "colab": {
          "base_uri": "https://localhost:8080/"
        },
        "id": "hb2UzBxatAZP",
        "outputId": "f20912f7-c79c-4652-a1f7-9fe60fef0ae0"
      },
      "outputs": [
        {
          "output_type": "stream",
          "name": "stdout",
          "text": [
            "mean_annual_inc = 98223.29\n"
          ]
        }
      ],
      "source": [
        "from tables import conditions\n",
        "from numpy.lib.function_base import median\n",
        "# 8. (3pt) To practice boolean indexing, \n",
        "#    find the mean annual_inc for rows with:\n",
        "#        (loan_amnt greater than the median loan_amnt) and\n",
        "#        (outcome of 'paid off') and\n",
        "#        (home_ownership of 'MORTGAGE' or 'OWN')\n",
        "\n",
        "median_annual_inc = df['loan_amnt'].median()\n",
        "condition = (df['loan_amnt'] > median_annual_inc) & \\\n",
        "            (df['outcome']=='paid off') & \\\n",
        "            (df['home_ownership'].isin(['MORTGAGE','OWN']))\n",
        "\n",
        "filtered_df = df.loc[condition, :]\n",
        "mean_annual_inc = filtered_df['annual_inc'].mean()\n",
        "\n",
        "# Print the mean annual income found with precision of 2\n",
        "print(f'{mean_annual_inc = :0.2f}')"
      ]
    },
    {
      "cell_type": "code",
      "execution_count": 43,
      "metadata": {
        "colab": {
          "base_uri": "https://localhost:8080/"
        },
        "id": "pmOkQ49ItAZP",
        "outputId": "bfa25935-bdbf-4ebb-eeba-395203c9d227"
      },
      "outputs": [
        {
          "output_type": "stream",
          "name": "stdout",
          "text": [
            "debt_consolidation    542\n",
            "credit_card           173\n",
            "other                  93\n",
            "home_improvement       62\n",
            "major_purchase         34\n",
            "small_business         33\n",
            "medical                15\n",
            "wedding                15\n",
            "moving                 12\n",
            "house                  10\n",
            "car                     7\n",
            "vacation                4\n",
            "Name: purpose, dtype: int64\n"
          ]
        }
      ],
      "source": [
        "# 9. (1pt) Calculate the frequencies of the different values seen in the column 'purpose' using .value_counts()\n",
        "#    Store in purpose_counts.\n",
        "\n",
        "purpose_counts = df['purpose'].value_counts()\n",
        "\n",
        "print(purpose_counts)"
      ]
    },
    {
      "cell_type": "code",
      "execution_count": 47,
      "metadata": {
        "colab": {
          "base_uri": "https://localhost:8080/",
          "height": 297
        },
        "id": "tE1pNfrztAZQ",
        "outputId": "6beaf86e-93d0-4b2b-ce77-6dbb63d04ff4"
      },
      "outputs": [
        {
          "output_type": "execute_result",
          "data": {
            "text/plain": [
              "Text(0.5, 0, 'frequency')"
            ]
          },
          "metadata": {},
          "execution_count": 47
        },
        {
          "output_type": "display_data",
          "data": {
            "text/plain": [
              "<Figure size 432x288 with 1 Axes>"
            ],
            "image/png": "[encoded data removed]"
          },
          "metadata": {
            "needs_background": "light"
          }
        }
      ],
      "source": [
        "# 10. (3pt) Plot the frequency of each of the categories seen in the 'purpose' column of df using sns.countplot()\n",
        "#   Order the bars using the purpose_counts.index, generated in the cell above, \n",
        "#      which is sorted by frequency by default. (use the order= argument in sns.countplot())\n",
        "#   Because there are many values, and some of the labels are long, \n",
        "#      place 'purpose' on the y-axis instead of the x-axis (use y= instead of x=).\n",
        "\n",
        "sns.countplot(y='purpose', data=df, order=purpose_counts.index)\n",
        "plt.xlabel('frequency')"
      ]
    },
    {
      "cell_type": "code",
      "execution_count": 46,
      "metadata": {
        "colab": {
          "base_uri": "https://localhost:8080/"
        },
        "id": "zZTP4R8QtAZQ",
        "outputId": "81c057a0-e332-42f5-c29a-6e05a0c9ff06"
      },
      "outputs": [
        {
          "output_type": "execute_result",
          "data": {
            "text/plain": [
              "purpose\n",
              "small_business        15344.696970\n",
              "house                 14717.500000\n",
              "debt_consolidation    14440.221402\n",
              "credit_card           12776.589595\n",
              "home_improvement      12114.516129\n",
              "major_purchase        11732.352941\n",
              "other                  9758.064516\n",
              "wedding                9153.333333\n",
              "vacation               7700.000000\n",
              "medical                6666.666667\n",
              "car                    5542.857143\n",
              "moving                 4933.333333\n",
              "Name: loan_amnt, dtype: float64"
            ]
          },
          "metadata": {},
          "execution_count": 46
        }
      ],
      "source": [
        "# 11. (2pt) What is the mean loan_amnt for each category in purpose?\n",
        "#     Use groupby()\n",
        "#     Sort the resulting series by value decending\n",
        "\n",
        "purpose_means = df.groupby('purpose')['loan_amnt'].mean().sort_values(ascending=False)\n",
        "purpose_means"
      ]
    },
    {
      "cell_type": "code",
      "execution_count": 48,
      "metadata": {
        "colab": {
          "base_uri": "https://localhost:8080/"
        },
        "id": "9444hrGptAZQ",
        "outputId": "c833cbdc-04ed-4799-d9cb-4338cd93b8ce"
      },
      "outputs": [
        {
          "output_type": "execute_result",
          "data": {
            "text/plain": [
              "count      1000.000000\n",
              "mean      68158.890000\n",
              "std       40271.746339\n",
              "min       10000.000000\n",
              "25%       42000.000000\n",
              "50%       60000.000000\n",
              "75%       83000.000000\n",
              "max      367000.000000\n",
              "Name: annual_inc, dtype: float64"
            ]
          },
          "metadata": {},
          "execution_count": 48
        }
      ],
      "source": [
        "# 12. (1pt) Display the summary statistics of annual_inc using .describe()\n",
        "df['annual_inc'].describe()"
      ]
    },
    {
      "cell_type": "code",
      "execution_count": 49,
      "metadata": {
        "colab": {
          "base_uri": "https://localhost:8080/"
        },
        "id": "YkQH4Q-btAZQ",
        "outputId": "3b4b63e0-e587-453d-fbb4-5da191c7a3bf"
      },
      "outputs": [
        {
          "output_type": "stream",
          "name": "stdout",
          "text": [
            "absolute difference = 8158.89\n"
          ]
        }
      ],
      "source": [
        "# 13. (2pt) There appears to be a fairly large difference between mean and median in annual_inc.\n",
        "#   Print out the absolute difference in mean annual_inc and median annual_inc to a precision of 2\n",
        "#   To calculate the absolute value, use np.abs()\n",
        "\n",
        "annual_inc_mean = df['annual_inc'].mean()\n",
        "\n",
        "annual_inc_median = df['annual_inc'].median()\n",
        "\n",
        "print(f'absolute difference = {abs(annual_inc_mean-annual_inc_median):0.2f}')"
      ]
    },
    {
      "cell_type": "code",
      "execution_count": 55,
      "metadata": {
        "colab": {
          "base_uri": "https://localhost:8080/",
          "height": 298
        },
        "id": "qt2M-otstAZQ",
        "outputId": "1ef256eb-25b3-48a8-89c4-9a02aba04bf7"
      },
      "outputs": [
        {
          "output_type": "execute_result",
          "data": {
            "text/plain": [
              "<AxesSubplot:xlabel='annual_inc'>"
            ]
          },
          "metadata": {},
          "execution_count": 55
        },
        {
          "output_type": "display_data",
          "data": {
            "text/plain": [
              "<Figure size 864x288 with 1 Axes>"
            ],
            "image/png": "[encoded data removed]"
          },
          "metadata": {
            "needs_background": "light"
          }
        }
      ],
      "source": [
        "# 14. (2pt) Display a boxplot of annual_inc using sns.boxplot.\n",
        "\n",
        "#  To make the plot wider, use plt.subplots with 1 row, 1 column of axes and a figsize of (12,4)\n",
        "fig,ax = plt.subplots(figsize=(12,4))\n",
        "#  Plot a boxplot of annual_inc using sns.boxplot() and ax with annual_inc on the x-axis\n",
        "sns.boxplot(x='annual_inc', data=df, ax=ax)"
      ]
    },
    {
      "cell_type": "code",
      "execution_count": 56,
      "metadata": {
        "colab": {
          "base_uri": "https://localhost:8080/"
        },
        "id": "9ecG-G07tAZQ",
        "outputId": "2d7babfc-2aa0-4141-f29d-ef5c73924518"
      },
      "outputs": [
        {
          "output_type": "stream",
          "name": "stdout",
          "text": [
            "95th percentile of annual_inc: 141195.95\n"
          ]
        }
      ],
      "source": [
        "# 15. (1pt) We'll remove some of records with the highest annual_inc, treating them as outliers.\n",
        "#    What is the 95th percentile of annual_inc? (use .percentile from numpy or .quantile from pandas)\n",
        "#    Eg. Where is the cutoff where we remove extremely high values but keep 95% of the data?\n",
        "\n",
        "annual_inc_95 = df['annual_inc'].quantile(0.95)\n",
        "\n",
        "print(f'95th percentile of annual_inc: {annual_inc_95:0.2f}')"
      ]
    },
    {
      "cell_type": "code",
      "execution_count": 57,
      "metadata": {
        "colab": {
          "base_uri": "https://localhost:8080/",
          "height": 459
        },
        "id": "g6L9z4zbtAZQ",
        "outputId": "c3455914-afbd-43d2-84f8-d5ff6843ef33"
      },
      "outputs": [
        {
          "output_type": "execute_result",
          "data": {
            "text/plain": [
              "<seaborn.axisgrid.JointGrid at 0x7f58a6b92070>"
            ]
          },
          "metadata": {},
          "execution_count": 57
        },
        {
          "output_type": "display_data",
          "data": {
            "text/plain": [
              "<Figure size 432x432 with 3 Axes>"
            ],
            "image/png": "[encoded data removed]"
          },
          "metadata": {
            "needs_background": "light"
          }
        }
      ],
      "source": [
        "# 16. (3pt) Plot loan_amnt (x-axis) against annual_inc (y-axis) using sns.jointplot(), excluding our outliers\n",
        "#     only including rows where annual_inc < annual_inc_95\n",
        "#     set alpha=0.3 to add transparency to markers\n",
        "#  Note that the histogram of annual_inc is now less right skewed (fewer very high values).\n",
        "\n",
        "df_filtered = df[df.annual_inc < annual_inc_95]\n",
        "sns.jointplot(x='loan_amnt', y='annual_inc', data=df_filtered, alpha=0.3)"
      ]
    },
    {
      "cell_type": "code",
      "execution_count": 67,
      "metadata": {
        "colab": {
          "base_uri": "https://localhost:8080/",
          "height": 314
        },
        "id": "8djTwowNtAZQ",
        "outputId": "d63ad170-8539-4b42-9526-3c47f1f95c09"
      },
      "outputs": [
        {
          "output_type": "execute_result",
          "data": {
            "text/plain": [
              "Text(0.5, 1.0, 'Annual Income Distributions')"
            ]
          },
          "metadata": {},
          "execution_count": 67
        },
        {
          "output_type": "display_data",
          "data": {
            "text/plain": [
              "<Figure size 864x288 with 2 Axes>"
            ],
            "image/png": "[encoded data removed]"
          },
          "metadata": {
            "needs_background": "light"
          }
        }
      ],
      "source": [
        "# 17. (5pt) Visualize annual income (annual_inc) by outcome.\n",
        "#     Outcome takes two values: 'paid off' and 'default'\n",
        "\n",
        "# NOTE: In all of the below use all rows of df, not limiting to df.annual_inc less than annual_inc_95\n",
        "\n",
        "# Here, we'll create 2 plots, one that compares the distributions of annual_inc by outcome,\n",
        "# the other comparing the mean of annual_inc by outcome\n",
        "\n",
        "# Create a subplot with 1 row and 2 columns with figsize of (12,4) and capture the fig and ax return as fig,ax\n",
        "fig,ax = plt.subplots(nrows=1, ncols=2, figsize=(12,4))\n",
        "\n",
        "# On the first axis (ax[0]) use sns.boxplot() to compare the distribution of annual_inc by outcome\n",
        "#   Place 'annual_inc' on the x-axis and 'outcome' on the y-axis.\n",
        "sns.boxplot(x='annual_inc', y='outcome', data=df, ax=ax[0])\n",
        "\n",
        "# Set the title on the first axis ax[0] to be 'Annual Income Distributions'\n",
        "ax[0].set_title('Annual Income Distributions')\n",
        "\n",
        "# On the second axis (ax[1]) use sns.barplot() to compare the means of annual_inc by outcome\n",
        "#   Place 'annual_inc' on the x-axis and 'outcome' on the y-axis.\n",
        "sns.barplot(x='annual_inc', y='outcome', data=df, ax=ax[1])\n",
        "\n",
        "# Set the title on the second plot to be 'Annual Income Means'\n",
        "ax[1].set_title('Annual Income Distributions')"
      ]
    },
    {
      "cell_type": "markdown",
      "metadata": {
        "id": "52YneluTtAZQ"
      },
      "source": [
        "## Part 2: Hypothesis Testing\n",
        "\n",
        "The plots in the question above indicate a difference in annual_inc by outcome.\n",
        "\n",
        "Let's test the hypothesis that there is a difference in mean annual_inc for loans with an outcome of 'paid off' vs loans with an outcome of 'default'."
      ]
    },
    {
      "cell_type": "code",
      "execution_count": 75,
      "metadata": {
        "colab": {
          "base_uri": "https://localhost:8080/"
        },
        "id": "16loLz7CtAZQ",
        "outputId": "15b4ed2b-a5f6-4a89-a120-99b08a8d3cbf"
      },
      "outputs": [
        {
          "output_type": "stream",
          "name": "stdout",
          "text": [
            "the value of is  9062.744\n"
          ]
        }
      ],
      "source": [
        "# 18. (3pt) Calculate the difference in mean annual_inc between 'paid off' and 'default' \n",
        "#     Use: mean annual_inc of paid off - mean annual_inc of default\n",
        "\n",
        "# Calculate the mean value for each group\n",
        "mean_annual_inc_paid_off = df.groupby('outcome')['annual_inc'].mean()[1]\n",
        "mean_annual_inc_default = df.groupby('outcome')['annual_inc'].mean()[0]\n",
        "observed_mean_diff = mean_annual_inc_paid_off - mean_annual_inc_default\n",
        "\n",
        "# Print the the value of observed_mean_diff with a precision of 2\n",
        "print(f'the value of is {observed_mean_diff: 0.3f}')"
      ]
    },
    {
      "cell_type": "code",
      "execution_count": 90,
      "metadata": {
        "colab": {
          "base_uri": "https://localhost:8080/"
        },
        "id": "n48uO6TstAZR",
        "outputId": "8483ea6d-d99b-4fba-b15a-1e8755421ddf"
      },
      "outputs": [
        {
          "output_type": "stream",
          "name": "stdout",
          "text": [
            "n_paid_off = 500\n"
          ]
        },
        {
          "output_type": "execute_result",
          "data": {
            "text/plain": [
              "array([ 2323.292,  3927.652, -4313.772])"
            ]
          },
          "metadata": {},
          "execution_count": 90
        }
      ],
      "source": [
        "# 19. (5pt) We'll perform a permutation test to see how significant this difference is\n",
        "#    by generating 1,000 random permutation samples of mean difference\n",
        "\n",
        "rand_mean_diffs = [] \n",
        "n_samples = 1000\n",
        "n_paid_off = df['outcome'].value_counts()[1] # the number of observations with outcome of 'paid off'\n",
        "print(f'{n_paid_off = :d}')\n",
        "\n",
        "for i in range(n_samples):\n",
        "    \n",
        "    # Get a random permutation of df.annual_inc\n",
        "    # Use the pandas .sample() function with \n",
        "    #    sample size the same size as original dataset\n",
        "    #    sampling without replacement\n",
        "    #    random_state == i (the index of the loop) for consistency in grading\n",
        "    rand_perm = df['annual_inc'].sample(frac=1, random_state=i, replace = False)\n",
        "    \n",
        "    # Take the mean of the first n_paid_off random values\n",
        "    rand_mean_paid_off = rand_perm[:n_paid_off].mean()\n",
        "    \n",
        "    # Take the mean of the remaining random values\n",
        "    rand_mean_default = rand_perm[n_paid_off:].mean()\n",
        "    \n",
        "    # Append the difference (rand_mean_paid_off - rand_mean_default) to the list rand_mean_diffs\n",
        "    rand_mean_diffs.append(rand_mean_paid_off-rand_mean_default)\n",
        "    \n",
        "# Convert rand_mean_diffs into a numpy array so we can use numpy functions\n",
        "rand_mean_diffs = np.array(rand_mean_diffs)\n",
        "    \n",
        "# check that we have the correct amount of data by asserting that the length of rand_mean_diffs == n_samples\n",
        "assert len(rand_mean_diffs) == n_samples\n",
        "\n",
        "# check that we only have one array of differences\n",
        "assert rand_mean_diffs.ndim == 1\n",
        "\n",
        "# Display the first three values in rand_mean_diffs so we know when it's done.\n",
        "rand_mean_diffs[:3]"
      ]
    },
    {
      "cell_type": "code",
      "execution_count": 91,
      "metadata": {
        "colab": {
          "base_uri": "https://localhost:8080/"
        },
        "id": "udoS3OhytAZR",
        "outputId": "04372370-dab2-4c54-f5d0-33cd5bb73a69"
      },
      "outputs": [
        {
          "output_type": "stream",
          "name": "stdout",
          "text": [
            "rand_mean_diffs_zscore.mean() = 0.000\n",
            "rand_mean_diffs_zscore.std()  = 1.000\n",
            "observed_mean_diff_zscore     = 3.415\n"
          ]
        }
      ],
      "source": [
        "# 20. (5pt) Before we plot the data, let's transform all values to their z-score\n",
        "\n",
        "# Calculate the sample mean of our rand_mean_diffs using .mean()\n",
        "mean_rand_mean_diffs = rand_mean_diffs.mean()\n",
        "\n",
        "# Calculate the sample standard deviation using .std()\n",
        "std_rand_mean_diffs = rand_mean_diffs.std()\n",
        "\n",
        "# Transform rand_mean_diffs to rand_mean_diffs_zscore by subtracting the mean and dividing by the std dev\n",
        "rand_mean_diffs_zscore = (rand_mean_diffs - mean_rand_mean_diffs)/std_rand_mean_diffs\n",
        "\n",
        "# Transform the observed_mean_diff as well by subtracting the mean and dividing by the std dev\n",
        "observed_mean_diff_zscore = (observed_mean_diff - mean_rand_mean_diffs)/std_rand_mean_diffs\n",
        "\n",
        "# To check our transformation, check that the zscore mean is near 0 and std dev is near 1\n",
        "print(f'{rand_mean_diffs_zscore.mean() = :0.3f}')\n",
        "print(f'{rand_mean_diffs_zscore.std()  = :0.3f}')\n",
        "print(f'{observed_mean_diff_zscore     = :0.3f}')\n",
        "\n",
        "assert np.abs(rand_mean_diffs_zscore.mean() - 0) < .0001, 'rand_mean_diffs_zscore.mean() should be close to zero'\n",
        "assert np.abs(rand_mean_diffs_zscore.std() - 1) < .0001, 'rand_mean_diffs_zscore.std() should be close to 1'"
      ]
    },
    {
      "cell_type": "code",
      "execution_count": 99,
      "metadata": {
        "colab": {
          "base_uri": "https://localhost:8080/",
          "height": 283
        },
        "id": "wwoM5kPLtAZR",
        "outputId": "fd2416cb-9f5f-4a13-90a9-773b1652db74"
      },
      "outputs": [
        {
          "output_type": "execute_result",
          "data": {
            "text/plain": [
              "<matplotlib.lines.Line2D at 0x7f58e45b36d0>"
            ]
          },
          "metadata": {},
          "execution_count": 99
        },
        {
          "output_type": "display_data",
          "data": {
            "text/plain": [
              "<Figure size 864x288 with 1 Axes>"
            ],
            "image/png": "[encoded data removed]"
          },
          "metadata": {
            "needs_background": "light"
          }
        }
      ],
      "source": [
        "# 21. (2pt) Plot our observed metric against our samples.\n",
        "\n",
        "# Use seaborn histplot to plot the distribution of rand_mean_diffs_zscore\n",
        "#    capture the return in ax\n",
        "fig,ax = plt.subplots(figsize=(12,4))\n",
        "sns.histplot(rand_mean_diffs_zscore, ax=ax, bins=20, kde=True)\n",
        "\n",
        "# Use ax.axvline() to plot a line at our observed_mean_diff_zscore\n",
        "# Make the line red using color='r'\n",
        "ax.axvline(x=observed_mean_diff_zscore, color='r')"
      ]
    },
    {
      "cell_type": "code",
      "execution_count": 104,
      "metadata": {
        "colab": {
          "base_uri": "https://localhost:8080/"
        },
        "id": "yby_tdtntAZR",
        "outputId": "8f1dd298-cad7-42d9-d8dc-23ca15cff615"
      },
      "outputs": [
        {
          "output_type": "stream",
          "name": "stdout",
          "text": [
            "the p-value is  0.002\n"
          ]
        }
      ],
      "source": [
        "# 22. (3pt) The plot seems to indicate a difference a real difference in values. What is the p-value?\n",
        "#    Calculate a two-tailed p_value using np.abs()\n",
        "#    Recall that we want the proportion of random samples (rand_mean_diffs_zscore) that are \n",
        "#      greater than or equal to the observed difference (observed_mean_diff_zscore).\n",
        "p_value = 2*np.sum(np.abs(rand_mean_diffs_zscore) >= np.abs(observed_mean_diff_zscore)) / n_samples\n",
        "\n",
        "# print p_value with a precision of 3\n",
        "print(f'the p-value is {p_value: 0.3f}')"
      ]
    }
  ],
  "metadata": {
    "kernelspec": {
      "display_name": "Python 3 (ipykernel)",
      "language": "python",
      "name": "python3"
    },
    "language_info": {
      "codemirror_mode": {
        "name": "ipython",
        "version": 3
      },
      "file_extension": ".py",
      "mimetype": "text/x-python",
      "name": "python",
      "nbconvert_exporter": "python",
      "pygments_lexer": "ipython3",
      "version": "3.9.9"
    },
    "colab": {
      "provenance": []
    }
  },
  "nbformat": 4,
  "nbformat_minor": 0
}
